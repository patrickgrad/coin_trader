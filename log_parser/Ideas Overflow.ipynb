{
 "cells": [
  {
   "cell_type": "code",
   "execution_count": null,
   "metadata": {},
   "outputs": [],
   "source": [
    "# Predict changes in tick price based on previous movements\n",
    "\n",
    "tick_pct_chng_chng = [(tick_pct_chng[i-1]-e)/(tick_pct_chng[i-1]+(10**-14)) for i,e in enumerate(tick_pct_chng) if i > 0]\n",
    "\n",
    "fig, ax = plt.subplots()\n",
    "ax.scatter(a_t[2:], tick_pct_chng_chng, s=2)\n",
    "\n",
    "ax.set(xlabel='time (s)', ylabel='change of change in tick price', title='Tick Prices Change of Change')\n",
    "plt.savefig(out/\"ticks_chng_chng.png\")\n",
    "plt.show()"
   ]
  },
  {
   "cell_type": "code",
   "execution_count": null,
   "metadata": {},
   "outputs": [],
   "source": [
    "fig, ax = plt.subplots()\n",
    "ax.scatter(tick_pct_chng_chng[:-1], tick_pct_chng[2:], s=2)\n",
    "\n",
    "ax.set(xlabel='change of change in tick price', ylabel='change in tick price', title='blah')\n",
    "plt.savefig(out/\"ticks_chng_chng.png\")\n",
    "plt.show()"
   ]
  },
  {
   "cell_type": "code",
   "execution_count": null,
   "metadata": {},
   "outputs": [],
   "source": [
    "tick_pct_chng = np.array(tick_pct_chng)\n",
    "tick_pct_chng_chng = np.array(tick_pct_chng_chng)\n",
    "\n",
    "f = np.logical_and(np.invert(too_low), np.invert(too_high))[0][1:]\n",
    "\n",
    "print(len(f))\n",
    "\n",
    "tick_pct_chng_mod = tick_pct_chng[1:][f][1:]\n",
    "tick_pct_chng_chng_mod = tick_pct_chng_chng[f][:-1]\n",
    "\n",
    "print(tick_pct_chng_mod.size)\n",
    "print(tick_pct_chng_chng_mod.size)\n",
    "\n",
    "fig, ax = plt.subplots()\n",
    "ax.scatter(tick_pct_chng_chng_mod, tick_pct_chng_mod, s=2)\n",
    "\n",
    "ax.set(xlabel='change of change in tick price', ylabel='change in tick price', title='blah')\n",
    "plt.savefig(out/\"ticks_chng_chng.png\")\n",
    "plt.show()"
   ]
  }
 ],
 "metadata": {
  "kernelspec": {
   "display_name": "Python 3",
   "language": "python",
   "name": "python3"
  },
  "language_info": {
   "codemirror_mode": {
    "name": "ipython",
    "version": 3
   },
   "file_extension": ".py",
   "mimetype": "text/x-python",
   "name": "python",
   "nbconvert_exporter": "python",
   "pygments_lexer": "ipython3",
   "version": "3.8.3"
  }
 },
 "nbformat": 4,
 "nbformat_minor": 4
}
